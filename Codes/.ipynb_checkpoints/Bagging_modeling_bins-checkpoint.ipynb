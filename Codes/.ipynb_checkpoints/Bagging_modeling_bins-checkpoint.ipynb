{
 "cells": [
  {
   "cell_type": "markdown",
   "id": "40bcc26d",
   "metadata": {},
   "source": [
    "# Netflix Machine Learning - Modeling"
   ]
  },
  {
   "cell_type": "code",
   "execution_count": 11,
   "id": "703befef",
   "metadata": {},
   "outputs": [],
   "source": [
    "# import libraries\n",
    "import math\n",
    "import pandas as pd\n",
    "import numpy as np\n",
    "import seaborn as sns\n",
    "import matplotlib.pyplot as plt\n",
    "from sklearn.model_selection import train_test_split"
   ]
  },
  {
   "cell_type": "code",
   "execution_count": 12,
   "id": "23de7f7a",
   "metadata": {},
   "outputs": [],
   "source": [
    "# import encoded dataset\n",
    "data = pd.read_csv(r\"C:\\Users\\Shinemet\\Ironhack\\Projects\\Project7\\Work_files\\data_clean_encoded.csv\")"
   ]
  },
  {
   "cell_type": "code",
   "execution_count": 13,
   "id": "db78d320",
   "metadata": {},
   "outputs": [
    {
     "data": {
      "text/html": [
       "<div>\n",
       "<style scoped>\n",
       "    .dataframe tbody tr th:only-of-type {\n",
       "        vertical-align: middle;\n",
       "    }\n",
       "\n",
       "    .dataframe tbody tr th {\n",
       "        vertical-align: top;\n",
       "    }\n",
       "\n",
       "    .dataframe thead th {\n",
       "        text-align: right;\n",
       "    }\n",
       "</style>\n",
       "<table border=\"1\" class=\"dataframe\">\n",
       "  <thead>\n",
       "    <tr style=\"text-align: right;\">\n",
       "      <th></th>\n",
       "      <th>year</th>\n",
       "      <th>kind</th>\n",
       "      <th>rating</th>\n",
       "      <th>vote</th>\n",
       "      <th>runtime</th>\n",
       "      <th>genre1</th>\n",
       "      <th>country1</th>\n",
       "      <th>language1</th>\n",
       "      <th>cast1</th>\n",
       "      <th>cast2</th>\n",
       "      <th>director1</th>\n",
       "      <th>writer1</th>\n",
       "    </tr>\n",
       "  </thead>\n",
       "  <tbody>\n",
       "    <tr>\n",
       "      <th>0</th>\n",
       "      <td>2003.0</td>\n",
       "      <td>2</td>\n",
       "      <td>7.7</td>\n",
       "      <td>474.0</td>\n",
       "      <td>50.0</td>\n",
       "      <td>6</td>\n",
       "      <td>62</td>\n",
       "      <td>16</td>\n",
       "      <td>867</td>\n",
       "      <td>4968</td>\n",
       "      <td>4121</td>\n",
       "      <td>3319</td>\n",
       "    </tr>\n",
       "    <tr>\n",
       "      <th>1</th>\n",
       "      <td>1994.0</td>\n",
       "      <td>7</td>\n",
       "      <td>8.1</td>\n",
       "      <td>18.0</td>\n",
       "      <td>83.0</td>\n",
       "      <td>8</td>\n",
       "      <td>62</td>\n",
       "      <td>16</td>\n",
       "      <td>3627</td>\n",
       "      <td>438</td>\n",
       "      <td>3672</td>\n",
       "      <td>5036</td>\n",
       "    </tr>\n",
       "    <tr>\n",
       "      <th>2</th>\n",
       "      <td>1992.0</td>\n",
       "      <td>1</td>\n",
       "      <td>5.5</td>\n",
       "      <td>93.0</td>\n",
       "      <td>95.0</td>\n",
       "      <td>0</td>\n",
       "      <td>37</td>\n",
       "      <td>33</td>\n",
       "      <td>2513</td>\n",
       "      <td>1667</td>\n",
       "      <td>4077</td>\n",
       "      <td>2610</td>\n",
       "    </tr>\n",
       "    <tr>\n",
       "      <th>3</th>\n",
       "      <td>2004.0</td>\n",
       "      <td>1</td>\n",
       "      <td>5.3</td>\n",
       "      <td>13432.0</td>\n",
       "      <td>60.0</td>\n",
       "      <td>6</td>\n",
       "      <td>62</td>\n",
       "      <td>16</td>\n",
       "      <td>3047</td>\n",
       "      <td>1545</td>\n",
       "      <td>4022</td>\n",
       "      <td>4892</td>\n",
       "    </tr>\n",
       "    <tr>\n",
       "      <th>4</th>\n",
       "      <td>1991.0</td>\n",
       "      <td>1</td>\n",
       "      <td>4.5</td>\n",
       "      <td>2177.0</td>\n",
       "      <td>96.0</td>\n",
       "      <td>4</td>\n",
       "      <td>62</td>\n",
       "      <td>16</td>\n",
       "      <td>639</td>\n",
       "      <td>3350</td>\n",
       "      <td>1124</td>\n",
       "      <td>2893</td>\n",
       "    </tr>\n",
       "  </tbody>\n",
       "</table>\n",
       "</div>"
      ],
      "text/plain": [
       "     year  kind  rating     vote  runtime  genre1  country1  language1  cast1  \\\n",
       "0  2003.0     2     7.7    474.0     50.0       6        62         16    867   \n",
       "1  1994.0     7     8.1     18.0     83.0       8        62         16   3627   \n",
       "2  1992.0     1     5.5     93.0     95.0       0        37         33   2513   \n",
       "3  2004.0     1     5.3  13432.0     60.0       6        62         16   3047   \n",
       "4  1991.0     1     4.5   2177.0     96.0       4        62         16    639   \n",
       "\n",
       "   cast2  director1  writer1  \n",
       "0   4968       4121     3319  \n",
       "1    438       3672     5036  \n",
       "2   1667       4077     2610  \n",
       "3   1545       4022     4892  \n",
       "4   3350       1124     2893  "
      ]
     },
     "execution_count": 13,
     "metadata": {},
     "output_type": "execute_result"
    }
   ],
   "source": [
    "# check data\n",
    "data.head()"
   ]
  },
  {
   "cell_type": "markdown",
   "id": "26f32831",
   "metadata": {},
   "source": [
    "### Data prep for modeling"
   ]
  },
  {
   "cell_type": "code",
   "execution_count": 14,
   "id": "f2d0c3a4",
   "metadata": {},
   "outputs": [
    {
     "data": {
      "text/plain": [
       "count    8135.000000\n",
       "mean        6.680000\n",
       "std         1.281778\n",
       "min         1.500000\n",
       "25%         6.000000\n",
       "50%         6.900000\n",
       "75%         7.600000\n",
       "max         9.600000\n",
       "Name: rating, dtype: float64"
      ]
     },
     "execution_count": 14,
     "metadata": {},
     "output_type": "execute_result"
    }
   ],
   "source": [
    "data.rating.describe()"
   ]
  },
  {
   "cell_type": "code",
   "execution_count": 15,
   "id": "0a53945c",
   "metadata": {},
   "outputs": [
    {
     "data": {
      "text/html": [
       "<div>\n",
       "<style scoped>\n",
       "    .dataframe tbody tr th:only-of-type {\n",
       "        vertical-align: middle;\n",
       "    }\n",
       "\n",
       "    .dataframe tbody tr th {\n",
       "        vertical-align: top;\n",
       "    }\n",
       "\n",
       "    .dataframe thead th {\n",
       "        text-align: right;\n",
       "    }\n",
       "</style>\n",
       "<table border=\"1\" class=\"dataframe\">\n",
       "  <thead>\n",
       "    <tr style=\"text-align: right;\">\n",
       "      <th></th>\n",
       "      <th>year</th>\n",
       "      <th>kind</th>\n",
       "      <th>rating</th>\n",
       "      <th>vote</th>\n",
       "      <th>runtime</th>\n",
       "      <th>genre1</th>\n",
       "      <th>country1</th>\n",
       "      <th>language1</th>\n",
       "      <th>cast1</th>\n",
       "      <th>cast2</th>\n",
       "      <th>director1</th>\n",
       "      <th>writer1</th>\n",
       "    </tr>\n",
       "  </thead>\n",
       "  <tbody>\n",
       "    <tr>\n",
       "      <th>0</th>\n",
       "      <td>2003.0</td>\n",
       "      <td>2</td>\n",
       "      <td>1</td>\n",
       "      <td>474.0</td>\n",
       "      <td>50.0</td>\n",
       "      <td>6</td>\n",
       "      <td>62</td>\n",
       "      <td>16</td>\n",
       "      <td>867</td>\n",
       "      <td>4968</td>\n",
       "      <td>4121</td>\n",
       "      <td>3319</td>\n",
       "    </tr>\n",
       "    <tr>\n",
       "      <th>1</th>\n",
       "      <td>1994.0</td>\n",
       "      <td>7</td>\n",
       "      <td>1</td>\n",
       "      <td>18.0</td>\n",
       "      <td>83.0</td>\n",
       "      <td>8</td>\n",
       "      <td>62</td>\n",
       "      <td>16</td>\n",
       "      <td>3627</td>\n",
       "      <td>438</td>\n",
       "      <td>3672</td>\n",
       "      <td>5036</td>\n",
       "    </tr>\n",
       "    <tr>\n",
       "      <th>2</th>\n",
       "      <td>1992.0</td>\n",
       "      <td>1</td>\n",
       "      <td>0</td>\n",
       "      <td>93.0</td>\n",
       "      <td>95.0</td>\n",
       "      <td>0</td>\n",
       "      <td>37</td>\n",
       "      <td>33</td>\n",
       "      <td>2513</td>\n",
       "      <td>1667</td>\n",
       "      <td>4077</td>\n",
       "      <td>2610</td>\n",
       "    </tr>\n",
       "    <tr>\n",
       "      <th>3</th>\n",
       "      <td>2004.0</td>\n",
       "      <td>1</td>\n",
       "      <td>0</td>\n",
       "      <td>13432.0</td>\n",
       "      <td>60.0</td>\n",
       "      <td>6</td>\n",
       "      <td>62</td>\n",
       "      <td>16</td>\n",
       "      <td>3047</td>\n",
       "      <td>1545</td>\n",
       "      <td>4022</td>\n",
       "      <td>4892</td>\n",
       "    </tr>\n",
       "    <tr>\n",
       "      <th>4</th>\n",
       "      <td>1991.0</td>\n",
       "      <td>1</td>\n",
       "      <td>0</td>\n",
       "      <td>2177.0</td>\n",
       "      <td>96.0</td>\n",
       "      <td>4</td>\n",
       "      <td>62</td>\n",
       "      <td>16</td>\n",
       "      <td>639</td>\n",
       "      <td>3350</td>\n",
       "      <td>1124</td>\n",
       "      <td>2893</td>\n",
       "    </tr>\n",
       "  </tbody>\n",
       "</table>\n",
       "</div>"
      ],
      "text/plain": [
       "     year  kind rating     vote  runtime  genre1  country1  language1  cast1  \\\n",
       "0  2003.0     2      1    474.0     50.0       6        62         16    867   \n",
       "1  1994.0     7      1     18.0     83.0       8        62         16   3627   \n",
       "2  1992.0     1      0     93.0     95.0       0        37         33   2513   \n",
       "3  2004.0     1      0  13432.0     60.0       6        62         16   3047   \n",
       "4  1991.0     1      0   2177.0     96.0       4        62         16    639   \n",
       "\n",
       "   cast2  director1  writer1  \n",
       "0   4968       4121     3319  \n",
       "1    438       3672     5036  \n",
       "2   1667       4077     2610  \n",
       "3   1545       4022     4892  \n",
       "4   3350       1124     2893  "
      ]
     },
     "execution_count": 15,
     "metadata": {},
     "output_type": "execute_result"
    }
   ],
   "source": [
    "data.rating = pd.qcut(data.rating, 2, labels=[0, 1])\n",
    "data.head()"
   ]
  },
  {
   "cell_type": "raw",
   "id": "78879dc7",
   "metadata": {},
   "source": [
    "# convert target variable to process models\n",
    "data.rating = data.rating.astype(int)\n",
    "data.head()"
   ]
  },
  {
   "cell_type": "code",
   "execution_count": 16,
   "id": "9f4d3b8c",
   "metadata": {},
   "outputs": [],
   "source": [
    "# split dataset into independent and dependent variables\n",
    "X = data.drop('rating', axis=1)\n",
    "y = data['rating']"
   ]
  },
  {
   "cell_type": "code",
   "execution_count": 17,
   "id": "91c79a32",
   "metadata": {},
   "outputs": [],
   "source": [
    "# train-test split\n",
    "X_train, X_test, y_train, y_test = train_test_split(X, y, test_size=0.2, random_state=42)"
   ]
  },
  {
   "cell_type": "code",
   "execution_count": 18,
   "id": "61cb0c29",
   "metadata": {},
   "outputs": [],
   "source": [
    "# import models\n",
    "from sklearn import ensemble, datasets, tree\n",
    "from sklearn.neighbors import KNeighborsClassifier, KNeighborsRegressor\n",
    "from sklearn.linear_model import LinearRegression, LogisticRegression\n",
    "from sklearn.ensemble import RandomForestClassifier\n",
    "from sklearn.ensemble import BaggingClassifier\n",
    "from sklearn import metrics\n",
    "from sklearn.model_selection import GridSearchCV, RandomizedSearchCV"
   ]
  },
  {
   "cell_type": "markdown",
   "id": "446d816d",
   "metadata": {},
   "source": [
    "### Feature Selection"
   ]
  },
  {
   "cell_type": "code",
   "execution_count": 19,
   "id": "a6c74e51",
   "metadata": {},
   "outputs": [
    {
     "data": {
      "text/plain": [
       "5"
      ]
     },
     "execution_count": 19,
     "metadata": {},
     "output_type": "execute_result"
    }
   ],
   "source": [
    "# Find the optimal number of features with SFM\n",
    "from sklearn.ensemble import RandomForestClassifier\n",
    "from sklearn.feature_selection import SelectFromModel\n",
    "\n",
    "SFM = SelectFromModel(estimator=RandomForestClassifier())\n",
    "s = SFM.fit(X, y)\n",
    "\n",
    "n_features = s.transform(X).shape[1]\n",
    "n_features"
   ]
  },
  {
   "cell_type": "code",
   "execution_count": 20,
   "id": "19cbda84",
   "metadata": {},
   "outputs": [
    {
     "data": {
      "text/plain": [
       "Index(['year', 'vote', 'genre1', 'director1', 'writer1'], dtype='object')"
      ]
     },
     "execution_count": 20,
     "metadata": {},
     "output_type": "execute_result"
    }
   ],
   "source": [
    "# Get feature names \n",
    "feature_idx = s.get_support()\n",
    "feature_name = X.columns[feature_idx]\n",
    "feature_name"
   ]
  },
  {
   "cell_type": "code",
   "execution_count": 21,
   "id": "9b73a458",
   "metadata": {},
   "outputs": [],
   "source": [
    "# split dataset with features\n",
    "X = data[feature_name]\n",
    "y = data['rating']\n",
    "\n",
    "# train-test split\n",
    "X_train, X_test, y_train, y_test = train_test_split(X, y, test_size=0.2, random_state=42)"
   ]
  },
  {
   "cell_type": "markdown",
   "id": "4e464c1f",
   "metadata": {},
   "source": [
    "### Data scaling"
   ]
  },
  {
   "cell_type": "raw",
   "id": "fc7c773b",
   "metadata": {},
   "source": [
    "# split dataset into features ang target\n",
    "X = data.drop('rating', axis=1)\n",
    "y = data['rating']"
   ]
  },
  {
   "cell_type": "raw",
   "id": "3509ec07",
   "metadata": {},
   "source": [
    "# scale all features to comparable order\n",
    "from sklearn.preprocessing import StandardScaler\n",
    "\n",
    "scaler = StandardScaler()\n",
    "X = scaler.fit_transform(X)\n",
    "X[:1]"
   ]
  },
  {
   "cell_type": "markdown",
   "id": "fec26c0a",
   "metadata": {},
   "source": [
    "### DecisionTree (for reference)"
   ]
  },
  {
   "cell_type": "code",
   "execution_count": 22,
   "id": "f09773da",
   "metadata": {},
   "outputs": [
    {
     "name": "stdout",
     "output_type": "stream",
     "text": [
      "Test accuracy: 0.665\n"
     ]
    }
   ],
   "source": [
    "# fitting DecisionTree for reference\n",
    "from sklearn.tree import DecisionTreeClassifier\n",
    "\n",
    "dtc = DecisionTreeClassifier()\n",
    "dtc.fit(X_train, y_train)\n",
    "y_pred = dtc.predict(X_test)\n",
    "\n",
    "print('Test accuracy: %.3f' %metrics.accuracy_score(y_test, y_pred))"
   ]
  },
  {
   "cell_type": "markdown",
   "id": "68b0ebfc",
   "metadata": {},
   "source": [
    "### BaggingClassifier"
   ]
  },
  {
   "cell_type": "markdown",
   "id": "6e0bca01",
   "metadata": {},
   "source": [
    "#### with default parameters"
   ]
  },
  {
   "cell_type": "code",
   "execution_count": 23,
   "id": "ed6b5fda",
   "metadata": {},
   "outputs": [
    {
     "name": "stdout",
     "output_type": "stream",
     "text": [
      "Training Accuracy : 0.982\n",
      "Test Accuracy : 0.723\n"
     ]
    }
   ],
   "source": [
    "# fitting BaggingClassifier to the dataset\n",
    "from sklearn.ensemble import BaggingClassifier\n",
    "\n",
    "bc = BaggingClassifier()\n",
    "bc.fit(X_train, y_train)\n",
    "\n",
    "# BC with binary target has a better fit than DTC\n",
    "print('Training Accuracy : %.3f' %bc.score(X_train, y_train))\n",
    "print('Test Accuracy : %.3f' %bc.score(X_test, y_test))"
   ]
  },
  {
   "cell_type": "markdown",
   "id": "8669cee6",
   "metadata": {},
   "source": [
    "#### with hyperparameter and default estimator"
   ]
  },
  {
   "cell_type": "code",
   "execution_count": 28,
   "id": "d800f554",
   "metadata": {},
   "outputs": [
    {
     "name": "stdout",
     "output_type": "stream",
     "text": [
      "Fitting 3 folds for each of 6 candidates, totalling 18 fits\n",
      "{'base_estimator': DecisionTreeClassifier(), 'n_estimators': 300}\n",
      "0.7395511675126185\n"
     ]
    }
   ],
   "source": [
    "# GridsearchCV with DecisionTree (default base estimator)\n",
    "params = {'base_estimator': [DecisionTreeClassifier()],\n",
    "         'n_estimators': np.arange(100,400,50)\n",
    "         }\n",
    "\n",
    "bc_grid = GridSearchCV(BaggingClassifier(random_state=42), \n",
    "                       param_grid=params, \n",
    "                       scoring='accuracy', \n",
    "                       cv=3, n_jobs=-1, verbose=1)\n",
    "bc_grid.fit(X_train, y_train)\n",
    "\n",
    "print(bc_grid.best_params_)\n",
    "print(bc_grid.best_score_)"
   ]
  },
  {
   "cell_type": "code",
   "execution_count": 25,
   "id": "0a1eab1c",
   "metadata": {},
   "outputs": [
    {
     "name": "stdout",
     "output_type": "stream",
     "text": [
      "Training Accuracy : 0.999\n",
      "Test Accuracy : 0.750\n"
     ]
    }
   ],
   "source": [
    "# Accuracy score is increased with hyperparameter\n",
    "bc = BaggingClassifier(n_estimators=300)\n",
    "bc.fit(X_train, y_train)\n",
    "\n",
    "print('Training Accuracy : %.3f' %bc.score(X_train, y_train))\n",
    "print('Test Accuracy : %.3f' %bc.score(X_test, y_test))"
   ]
  },
  {
   "cell_type": "markdown",
   "id": "c4408428",
   "metadata": {},
   "source": [
    "#### with hyperparameter based on a different estimator"
   ]
  },
  {
   "cell_type": "code",
   "execution_count": 29,
   "id": "977cf2eb",
   "metadata": {},
   "outputs": [
    {
     "name": "stdout",
     "output_type": "stream",
     "text": [
      "Fitting 3 folds for each of 12 candidates, totalling 36 fits\n"
     ]
    },
    {
     "name": "stderr",
     "output_type": "stream",
     "text": [
      "C:\\Users\\Shinemet\\anaconda3\\lib\\site-packages\\sklearn\\model_selection\\_search.py:969: UserWarning: One or more of the test scores are non-finite: [       nan        nan        nan        nan        nan        nan\n",
      " 0.59634247 0.59542067 0.59542067 0.59557421 0.59557414 0.5954206 ]\n",
      "  warnings.warn(\n"
     ]
    },
    {
     "name": "stdout",
     "output_type": "stream",
     "text": [
      "Train Accuracy : 0.599\n",
      "Test Accuracy : 0.596\n",
      "Best Accuracy Through Grid Search : 0.596\n",
      "Best Parameters :  {'base_estimator': LogisticRegression(random_state=42), 'n_estimators': 100}\n"
     ]
    }
   ],
   "source": [
    "from sklearn.preprocessing import StandardScaler\n",
    "from sklearn.linear_model import LogisticRegression\n",
    "\n",
    "params = {'base_estimator': [StandardScaler(), LogisticRegression(random_state=42)],\n",
    "          'n_estimators': np.arange(100,400,50)}\n",
    "\n",
    "bagging_classifier_grid = GridSearchCV(BaggingClassifier(random_state=1, n_jobs=-1), \n",
    "                                       param_grid=params,\n",
    "                                       cv=3, n_jobs=-1, verbose=1)\n",
    "bagging_classifier_grid.fit(X_train, y_train)\n",
    "\n",
    "print('Train Accuracy : %.3f' %bagging_classifier_grid.best_estimator_.score(X_train, y_train))\n",
    "print('Test Accuracy : %.3f' %bagging_classifier_grid.best_estimator_.score(X_test, y_test))\n",
    "print('Best Accuracy Through Grid Search : %.3f' %bagging_classifier_grid.best_score_)\n",
    "print('Best Parameters : ', bagging_classifier_grid.best_params_)"
   ]
  },
  {
   "cell_type": "code",
   "execution_count": 32,
   "id": "60500626",
   "metadata": {},
   "outputs": [
    {
     "name": "stdout",
     "output_type": "stream",
     "text": [
      "Training Accuracy : 0.599\n",
      "Test Accuracy : 0.593\n"
     ]
    }
   ],
   "source": [
    "# Accuracy score on test data with hyperparameters\n",
    "bc = BaggingClassifier(LogisticRegression(random_state=42), n_estimators=100)\n",
    "bc.fit(X_train, y_train)\n",
    "y_pred = bc.predict(X_test)\n",
    "\n",
    "print('Training Accuracy : %.3f' %bc.score(X_train, y_train))\n",
    "print('Test Accuracy : %.3f' %bc.score(X_test, y_test))"
   ]
  },
  {
   "cell_type": "markdown",
   "id": "35ce2073",
   "metadata": {},
   "source": [
    "### Comparison metrics"
   ]
  },
  {
   "cell_type": "code",
   "execution_count": 33,
   "id": "6898b441",
   "metadata": {},
   "outputs": [
    {
     "name": "stdout",
     "output_type": "stream",
     "text": [
      "[[618 239]\n",
      " [423 347]]\n",
      "Precision score: 0.5921501706484642\n",
      "Recall score: 0.45064935064935063\n",
      "Accuracy score: 0.5931161647203442\n",
      "Roc_auc_score: 0.5858847686735669\n"
     ]
    },
    {
     "data": {
      "image/png": "[encoded data removed]",
      "text/plain": [
       "<Figure size 432x288 with 1 Axes>"
      ]
     },
     "metadata": {
      "needs_background": "light"
     },
     "output_type": "display_data"
    }
   ],
   "source": [
    "# comparison metrics other than accuracy score or cross validation is not relevant here due to multiclass target (and not binary)\n",
    "from sklearn import metrics\n",
    "from sklearn.metrics import roc_auc_score\n",
    "\n",
    "# Confusion matrix\n",
    "print(metrics.confusion_matrix(y_test,y_pred))\n",
    "# Precision value of model\n",
    "print('Precision score:', metrics.precision_score(y_test, y_pred))\n",
    "# Recall value of model\n",
    "print('Recall score:', metrics.recall_score(y_test, y_pred))\n",
    "# Accuracy of model\n",
    "print('Accuracy score:', metrics.accuracy_score(y_test, y_pred))\n",
    "# Roc_auc_score of model\n",
    "print('Roc_auc_score:', metrics.roc_auc_score(y_test, y_pred))\n",
    "\n",
    "fpr, tpr, thresholds = metrics.roc_curve(y_test, y_pred)\n",
    "roc_auc = metrics.auc(fpr, tpr)\n",
    "display = metrics.RocCurveDisplay(fpr=fpr, tpr=tpr)\n",
    "display.plot()\n",
    "plt.show()"
   ]
  },
  {
   "cell_type": "markdown",
   "id": "b5fdb620",
   "metadata": {},
   "source": [
    "*The model is not fitting the dataset as is, we need to choose a different model.*"
   ]
  }
 ],
 "metadata": {
  "kernelspec": {
   "display_name": "Python 3 (ipykernel)",
   "language": "python",
   "name": "python3"
  },
  "language_info": {
   "codemirror_mode": {
    "name": "ipython",
    "version": 3
   },
   "file_extension": ".py",
   "mimetype": "text/x-python",
   "name": "python",
   "nbconvert_exporter": "python",
   "pygments_lexer": "ipython3",
   "version": "3.8.12"
  }
 },
 "nbformat": 4,
 "nbformat_minor": 5
}
