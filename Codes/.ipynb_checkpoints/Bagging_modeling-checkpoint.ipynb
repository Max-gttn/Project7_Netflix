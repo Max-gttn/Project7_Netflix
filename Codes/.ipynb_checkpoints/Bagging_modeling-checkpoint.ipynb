{
 "cells": [
  {
   "cell_type": "code",
   "execution_count": 1,
   "id": "703befef",
   "metadata": {},
   "outputs": [],
   "source": [
    "# import libraries\n",
    "import pandas as pd\n",
    "import numpy as np\n",
    "import math\n",
    "import seaborn as sns\n",
    "import matplotlib.pyplot as plt\n",
    "from sklearn.model_selection import train_test_split"
   ]
  },
  {
   "cell_type": "code",
   "execution_count": 5,
   "id": "23de7f7a",
   "metadata": {},
   "outputs": [],
   "source": [
    "# import encoded dataset\n",
    "data = pd.read_csv(r\"C:\\Users\\Shinemet\\Ironhack\\Projects\\Project7\\Work_files\\data_clean_encoded.csv\")"
   ]
  },
  {
   "cell_type": "code",
   "execution_count": 8,
   "id": "db78d320",
   "metadata": {},
   "outputs": [
    {
     "data": {
      "text/html": [
       "<div>\n",
       "<style scoped>\n",
       "    .dataframe tbody tr th:only-of-type {\n",
       "        vertical-align: middle;\n",
       "    }\n",
       "\n",
       "    .dataframe tbody tr th {\n",
       "        vertical-align: top;\n",
       "    }\n",
       "\n",
       "    .dataframe thead th {\n",
       "        text-align: right;\n",
       "    }\n",
       "</style>\n",
       "<table border=\"1\" class=\"dataframe\">\n",
       "  <thead>\n",
       "    <tr style=\"text-align: right;\">\n",
       "      <th></th>\n",
       "      <th>year</th>\n",
       "      <th>kind</th>\n",
       "      <th>rating</th>\n",
       "      <th>vote</th>\n",
       "      <th>runtime</th>\n",
       "      <th>genre1</th>\n",
       "      <th>country1</th>\n",
       "      <th>language1</th>\n",
       "      <th>cast1</th>\n",
       "      <th>cast2</th>\n",
       "      <th>director1</th>\n",
       "      <th>writer1</th>\n",
       "    </tr>\n",
       "  </thead>\n",
       "  <tbody>\n",
       "    <tr>\n",
       "      <th>0</th>\n",
       "      <td>2003.0</td>\n",
       "      <td>2</td>\n",
       "      <td>7</td>\n",
       "      <td>474.0</td>\n",
       "      <td>50.0</td>\n",
       "      <td>6</td>\n",
       "      <td>62</td>\n",
       "      <td>16</td>\n",
       "      <td>867</td>\n",
       "      <td>4968</td>\n",
       "      <td>4121</td>\n",
       "      <td>3319</td>\n",
       "    </tr>\n",
       "    <tr>\n",
       "      <th>1</th>\n",
       "      <td>1994.0</td>\n",
       "      <td>7</td>\n",
       "      <td>8</td>\n",
       "      <td>18.0</td>\n",
       "      <td>83.0</td>\n",
       "      <td>8</td>\n",
       "      <td>62</td>\n",
       "      <td>16</td>\n",
       "      <td>3627</td>\n",
       "      <td>438</td>\n",
       "      <td>3672</td>\n",
       "      <td>5036</td>\n",
       "    </tr>\n",
       "    <tr>\n",
       "      <th>2</th>\n",
       "      <td>1992.0</td>\n",
       "      <td>1</td>\n",
       "      <td>5</td>\n",
       "      <td>93.0</td>\n",
       "      <td>95.0</td>\n",
       "      <td>0</td>\n",
       "      <td>37</td>\n",
       "      <td>33</td>\n",
       "      <td>2513</td>\n",
       "      <td>1667</td>\n",
       "      <td>4077</td>\n",
       "      <td>2610</td>\n",
       "    </tr>\n",
       "    <tr>\n",
       "      <th>3</th>\n",
       "      <td>2004.0</td>\n",
       "      <td>1</td>\n",
       "      <td>5</td>\n",
       "      <td>13432.0</td>\n",
       "      <td>60.0</td>\n",
       "      <td>6</td>\n",
       "      <td>62</td>\n",
       "      <td>16</td>\n",
       "      <td>3047</td>\n",
       "      <td>1545</td>\n",
       "      <td>4022</td>\n",
       "      <td>4892</td>\n",
       "    </tr>\n",
       "    <tr>\n",
       "      <th>4</th>\n",
       "      <td>1991.0</td>\n",
       "      <td>1</td>\n",
       "      <td>4</td>\n",
       "      <td>2177.0</td>\n",
       "      <td>96.0</td>\n",
       "      <td>4</td>\n",
       "      <td>62</td>\n",
       "      <td>16</td>\n",
       "      <td>639</td>\n",
       "      <td>3350</td>\n",
       "      <td>1124</td>\n",
       "      <td>2893</td>\n",
       "    </tr>\n",
       "  </tbody>\n",
       "</table>\n",
       "</div>"
      ],
      "text/plain": [
       "     year  kind  rating     vote  runtime  genre1  country1  language1  cast1  \\\n",
       "0  2003.0     2       7    474.0     50.0       6        62         16    867   \n",
       "1  1994.0     7       8     18.0     83.0       8        62         16   3627   \n",
       "2  1992.0     1       5     93.0     95.0       0        37         33   2513   \n",
       "3  2004.0     1       5  13432.0     60.0       6        62         16   3047   \n",
       "4  1991.0     1       4   2177.0     96.0       4        62         16    639   \n",
       "\n",
       "   cast2  director1  writer1  \n",
       "0   4968       4121     3319  \n",
       "1    438       3672     5036  \n",
       "2   1667       4077     2610  \n",
       "3   1545       4022     4892  \n",
       "4   3350       1124     2893  "
      ]
     },
     "execution_count": 8,
     "metadata": {},
     "output_type": "execute_result"
    }
   ],
   "source": [
    "# check data\n",
    "data.head()"
   ]
  },
  {
   "cell_type": "code",
   "execution_count": 9,
   "id": "e0d2552c",
   "metadata": {},
   "outputs": [
    {
     "data": {
      "text/html": [
       "<div>\n",
       "<style scoped>\n",
       "    .dataframe tbody tr th:only-of-type {\n",
       "        vertical-align: middle;\n",
       "    }\n",
       "\n",
       "    .dataframe tbody tr th {\n",
       "        vertical-align: top;\n",
       "    }\n",
       "\n",
       "    .dataframe thead th {\n",
       "        text-align: right;\n",
       "    }\n",
       "</style>\n",
       "<table border=\"1\" class=\"dataframe\">\n",
       "  <thead>\n",
       "    <tr style=\"text-align: right;\">\n",
       "      <th></th>\n",
       "      <th>year</th>\n",
       "      <th>kind</th>\n",
       "      <th>rating</th>\n",
       "      <th>vote</th>\n",
       "      <th>runtime</th>\n",
       "      <th>genre1</th>\n",
       "      <th>country1</th>\n",
       "      <th>language1</th>\n",
       "      <th>cast1</th>\n",
       "      <th>cast2</th>\n",
       "      <th>director1</th>\n",
       "      <th>writer1</th>\n",
       "    </tr>\n",
       "  </thead>\n",
       "  <tbody>\n",
       "    <tr>\n",
       "      <th>0</th>\n",
       "      <td>2003.0</td>\n",
       "      <td>2</td>\n",
       "      <td>7</td>\n",
       "      <td>474.0</td>\n",
       "      <td>50.0</td>\n",
       "      <td>6</td>\n",
       "      <td>62</td>\n",
       "      <td>16</td>\n",
       "      <td>867</td>\n",
       "      <td>4968</td>\n",
       "      <td>4121</td>\n",
       "      <td>3319</td>\n",
       "    </tr>\n",
       "    <tr>\n",
       "      <th>1</th>\n",
       "      <td>1994.0</td>\n",
       "      <td>7</td>\n",
       "      <td>8</td>\n",
       "      <td>18.0</td>\n",
       "      <td>83.0</td>\n",
       "      <td>8</td>\n",
       "      <td>62</td>\n",
       "      <td>16</td>\n",
       "      <td>3627</td>\n",
       "      <td>438</td>\n",
       "      <td>3672</td>\n",
       "      <td>5036</td>\n",
       "    </tr>\n",
       "    <tr>\n",
       "      <th>2</th>\n",
       "      <td>1992.0</td>\n",
       "      <td>1</td>\n",
       "      <td>5</td>\n",
       "      <td>93.0</td>\n",
       "      <td>95.0</td>\n",
       "      <td>0</td>\n",
       "      <td>37</td>\n",
       "      <td>33</td>\n",
       "      <td>2513</td>\n",
       "      <td>1667</td>\n",
       "      <td>4077</td>\n",
       "      <td>2610</td>\n",
       "    </tr>\n",
       "    <tr>\n",
       "      <th>3</th>\n",
       "      <td>2004.0</td>\n",
       "      <td>1</td>\n",
       "      <td>5</td>\n",
       "      <td>13432.0</td>\n",
       "      <td>60.0</td>\n",
       "      <td>6</td>\n",
       "      <td>62</td>\n",
       "      <td>16</td>\n",
       "      <td>3047</td>\n",
       "      <td>1545</td>\n",
       "      <td>4022</td>\n",
       "      <td>4892</td>\n",
       "    </tr>\n",
       "    <tr>\n",
       "      <th>4</th>\n",
       "      <td>1991.0</td>\n",
       "      <td>1</td>\n",
       "      <td>4</td>\n",
       "      <td>2177.0</td>\n",
       "      <td>96.0</td>\n",
       "      <td>4</td>\n",
       "      <td>62</td>\n",
       "      <td>16</td>\n",
       "      <td>639</td>\n",
       "      <td>3350</td>\n",
       "      <td>1124</td>\n",
       "      <td>2893</td>\n",
       "    </tr>\n",
       "  </tbody>\n",
       "</table>\n",
       "</div>"
      ],
      "text/plain": [
       "     year  kind  rating     vote  runtime  genre1  country1  language1  cast1  \\\n",
       "0  2003.0     2       7    474.0     50.0       6        62         16    867   \n",
       "1  1994.0     7       8     18.0     83.0       8        62         16   3627   \n",
       "2  1992.0     1       5     93.0     95.0       0        37         33   2513   \n",
       "3  2004.0     1       5  13432.0     60.0       6        62         16   3047   \n",
       "4  1991.0     1       4   2177.0     96.0       4        62         16    639   \n",
       "\n",
       "   cast2  director1  writer1  \n",
       "0   4968       4121     3319  \n",
       "1    438       3672     5036  \n",
       "2   1667       4077     2610  \n",
       "3   1545       4022     4892  \n",
       "4   3350       1124     2893  "
      ]
     },
     "execution_count": 9,
     "metadata": {},
     "output_type": "execute_result"
    }
   ],
   "source": [
    "# convert target variable to process models\n",
    "data.rating = data.rating.astype(int)\n",
    "data.head()"
   ]
  },
  {
   "cell_type": "code",
   "execution_count": 10,
   "id": "9f4d3b8c",
   "metadata": {},
   "outputs": [],
   "source": [
    "# split dataset into independent and dependent variables\n",
    "X = data.drop('rating', axis=1)\n",
    "y = data['rating']"
   ]
  },
  {
   "cell_type": "code",
   "execution_count": 11,
   "id": "91c79a32",
   "metadata": {},
   "outputs": [],
   "source": [
    "# train-test split\n",
    "X_train, X_test, y_train, y_test = train_test_split(X, y, test_size=0.2, random_state=42)"
   ]
  },
  {
   "cell_type": "code",
   "execution_count": null,
   "id": "f3bedb40",
   "metadata": {},
   "outputs": [],
   "source": [
    "STOP"
   ]
  },
  {
   "cell_type": "markdown",
   "id": "f29735f7",
   "metadata": {},
   "source": [
    "### Models to import"
   ]
  },
  {
   "cell_type": "code",
   "execution_count": null,
   "id": "61cb0c29",
   "metadata": {},
   "outputs": [],
   "source": [
    "# import models\n",
    "from sklearn import ensemble, datasets, tree\n",
    "from sklearn.tree import DecisionTreeClassifier\n",
    "from sklearn.neighbors import KNeighborsClassifier, KNeighborsRegressor\n",
    "from sklearn.linear_model import LinearRegression, LogisticRegression\n",
    "from sklearn.ensemble import RandomForestClassifier\n",
    "from sklearn.ensemble import BaggingClassifier\n",
    "from sklearn import metrics\n",
    "\n",
    "from sklearn.model_selection import GridSearchCV, RandomizedSearchCV"
   ]
  },
  {
   "cell_type": "markdown",
   "id": "446d816d",
   "metadata": {},
   "source": [
    "### Feature Selection"
   ]
  },
  {
   "cell_type": "code",
   "execution_count": null,
   "id": "a6c74e51",
   "metadata": {},
   "outputs": [],
   "source": [
    "# Find the optimal number of features with SFM\n",
    "from sklearn.ensemble import RandomForestClassifier\n",
    "from sklearn.feature_selection import SelectFromModel\n",
    "\n",
    "SFM = SelectFromModel(estimator=RandomForestClassifier())\n",
    "s = SFM.fit(X, y)\n",
    "\n",
    "n_features = s.transform(X).shape[1]\n",
    "n_features"
   ]
  },
  {
   "cell_type": "code",
   "execution_count": null,
   "id": "19cbda84",
   "metadata": {},
   "outputs": [],
   "source": [
    "# Get the 3 feature names \n",
    "feature_idx = s.get_support()\n",
    "feature_name = X.columns[feature_idx]\n",
    "feature_name"
   ]
  },
  {
   "cell_type": "code",
   "execution_count": null,
   "id": "9b73a458",
   "metadata": {},
   "outputs": [],
   "source": [
    "# split dataset with features\n",
    "X = data[['title', 'vote', 'cast1']]\n",
    "y = data['rating']\n",
    "\n",
    "# train-test split\n",
    "X_train, X_test, y_train, y_test = train_test_split(X, y, test_size=0.2, random_state=42)"
   ]
  },
  {
   "cell_type": "markdown",
   "id": "68b0ebfc",
   "metadata": {},
   "source": [
    "### BaggingClassifier"
   ]
  },
  {
   "cell_type": "markdown",
   "id": "6e0bca01",
   "metadata": {},
   "source": [
    "#### with default parameters"
   ]
  },
  {
   "cell_type": "code",
   "execution_count": null,
   "id": "ed6b5fda",
   "metadata": {},
   "outputs": [],
   "source": [
    "# fitting BaggingClassifier to the dataset\n",
    "from sklearn.ensemble import BaggingClassifier\n",
    "\n",
    "bc = BaggingClassifier()\n",
    "bc.fit(X_train, y_train)"
   ]
  },
  {
   "cell_type": "code",
   "execution_count": null,
   "id": "0a3332ce",
   "metadata": {
    "scrolled": true
   },
   "outputs": [],
   "source": [
    "# model is overfitting training dataset\n",
    "print('Training Accuracy : %.3f'%bc.score(X_train, y_train))\n",
    "print('Test Accuracy : %.3f'%bc.score(X_test, y_test))"
   ]
  },
  {
   "cell_type": "markdown",
   "id": "8669cee6",
   "metadata": {},
   "source": [
    "#### with hyperparameter"
   ]
  },
  {
   "cell_type": "code",
   "execution_count": null,
   "id": "d800f554",
   "metadata": {},
   "outputs": [],
   "source": [
    "# GridsearchCV with DecisionTree (default base estimator)\n",
    "params = {'base_estimator': [None],\n",
    "         'n_estimators': np.arange(100,400,10)\n",
    "         }\n",
    "\n",
    "bc_grid = GridSearchCV(BaggingClassifier(random_state=1), \n",
    "                       param_grid = params, \n",
    "                       scoring=\"accuracy\", \n",
    "                       cv=3, n_jobs=-1, verbose=1)\n",
    "bc_grid.fit(X_train, y_train)\n",
    "\n",
    "print(bc_grid.best_params_)\n",
    "print(bc_grid.best_score_)"
   ]
  },
  {
   "cell_type": "code",
   "execution_count": null,
   "id": "0a1eab1c",
   "metadata": {},
   "outputs": [],
   "source": [
    "# Accuracy score on test data is still low\n",
    "bc = BaggingClassifier(n_estimators=240)\n",
    "bc.fit(X_train, y_train)\n",
    "\n",
    "print('Training Accuracy : %.3f'%bc.score(X_train, y_train))\n",
    "print('Test Accuracy : %.3f'%bc.score(X_test, y_test))"
   ]
  },
  {
   "cell_type": "markdown",
   "id": "c4408428",
   "metadata": {},
   "source": [
    "#### with hyperparameter on a different base_estimator"
   ]
  },
  {
   "cell_type": "code",
   "execution_count": null,
   "id": "977cf2eb",
   "metadata": {},
   "outputs": [],
   "source": [
    "n_samples = data.shape[0]\n",
    "n_features = data.shape[1]\n",
    "\n",
    "params = {'base_estimator': [None],\n",
    "          'n_estimators': [20,50,100],\n",
    "          'max_samples': [0.5, 1.0, n_samples//2, ],\n",
    "          'bootstrap': [True, False],\n",
    "          'bootstrap_features': [True, False]}\n",
    "\n",
    "bagging_classifier_grid = GridSearchCV(BaggingClassifier(random_state=1, n_jobs=-1), param_grid =params, cv=3, n_jobs=-1, verbose=1)\n",
    "bagging_classifier_grid.fit(X_train, y_train)\n",
    "\n",
    "print('Train Accuracy : %.3f'%bagging_classifier_grid.best_estimator_.score(X_train, y_train))\n",
    "print('Test Accuracy : %.3f'%bagging_classifier_grid.best_estimator_.score(X_test, y_test))\n",
    "print('Best Accuracy Through Grid Search : %.3f'%bagging_classifier_grid.best_score_)\n",
    "print('Best Parameters : ',bagging_classifier_grid.best_params_)"
   ]
  },
  {
   "cell_type": "code",
   "execution_count": null,
   "id": "60500626",
   "metadata": {},
   "outputs": [],
   "source": [
    "# Accuracy score on test data with hyperparameters\n",
    "bc = BaggingClassifier({'bootstrap': False, 'bootstrap_features': True, 'max_samples': 0.5, 'n_estimators': 100})\n",
    "bc.fit(X_train, y_train)\n",
    "\n",
    "print('Training Accuracy : %.3f'%bc.score(X_train, y_train))\n",
    "print('Test Accuracy : %.3f'%bc.score(X_test, y_test))"
   ]
  },
  {
   "cell_type": "markdown",
   "id": "b5fdb620",
   "metadata": {},
   "source": [
    "*The model is not fitting the dataset as is, we need to choose a different model.*"
   ]
  }
 ],
 "metadata": {
  "kernelspec": {
   "display_name": "Python 3 (ipykernel)",
   "language": "python",
   "name": "python3"
  },
  "language_info": {
   "codemirror_mode": {
    "name": "ipython",
    "version": 3
   },
   "file_extension": ".py",
   "mimetype": "text/x-python",
   "name": "python",
   "nbconvert_exporter": "python",
   "pygments_lexer": "ipython3",
   "version": "3.8.12"
  }
 },
 "nbformat": 4,
 "nbformat_minor": 5
}
